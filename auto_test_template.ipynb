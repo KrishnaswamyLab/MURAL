{
 "metadata": {
  "language_info": {
   "codemirror_mode": {
    "name": "ipython",
    "version": 3
   },
   "file_extension": ".py",
   "mimetype": "text/x-python",
   "name": "python",
   "nbconvert_exporter": "python",
   "pygments_lexer": "ipython3",
   "version": "3.7.9-final"
  },
  "orig_nbformat": 2,
  "kernelspec": {
   "name": "python3",
   "display_name": "Python 3",
   "language": "python"
  }
 },
 "nbformat": 4,
 "nbformat_minor": 2,
 "cells": [
  {
   "cell_type": "code",
   "execution_count": 1,
   "metadata": {},
   "outputs": [],
   "source": [
    "# Step 0: Prepare to import MURAL\n",
    "# This can be done by placing copies of base.py and test.py in your directory\n",
    "# and directly importing or by finding the path to the directory that contains them.\n",
    "# This code temporarily inserts that directory into your system PATH\n",
    "import sys\n",
    "sys.path.insert(1, \"your/path/to/repo/mural\") # replace the string in quotes"
   ]
  },
  {
   "cell_type": "code",
   "execution_count": 2,
   "metadata": {},
   "outputs": [],
   "source": [
    "# Step 1: Import MURAL and testing code\n",
    "# This imports everything from the two python files\n",
    "from base import *\n",
    "from test import *"
   ]
  },
  {
   "cell_type": "code",
   "execution_count": 3,
   "metadata": {},
   "outputs": [],
   "source": [
    "# Step 2: Create (or np.load) your data\n",
    "ground_truth, labels = make_embedded_swiss_roll(5)\n",
    "\n",
    "# If using a toy dataset, here's how you can add NaNs\n",
    "missing, imputed = make_missing_middle(ground_truth, [300, 300,], [0, 1,])"
   ]
  },
  {
   "cell_type": "code",
   "execution_count": null,
   "metadata": {},
   "outputs": [],
   "source": [
    "# Step 3: Make reference embeddings\n",
    "# Use a dataset without missing values to get PCA, tSNE, and PHATE\n",
    "make_embeddings(ground_truth_or_imputed, labels)"
   ]
  },
  {
   "cell_type": "code",
   "execution_count": null,
   "metadata": {},
   "outputs": [],
   "source": [
    "# If using a toy dataset, this can calculate DEMaP between reference embeddigns and ground truth\n",
    "demap_reference(ground_truth)"
   ]
  },
  {
   "cell_type": "code",
   "execution_count": null,
   "metadata": {},
   "outputs": [],
   "source": [
    "# Step 4: Train MURAL forests and get their embeddings\n",
    "train_forests(ground_truth_or_missing, labels, subs_variables, subs_observations)"
   ]
  },
  {
   "cell_type": "code",
   "execution_count": null,
   "metadata": {},
   "outputs": [],
   "source": [
    "# If using a toy dataset, this can calculate DEMaP between MURAL embeddings and ground truth\n",
    "demap_mural(ground_truth)"
   ]
  }
 ]
}